{
 "cells": [
  {
   "cell_type": "markdown",
   "id": "3c17853e",
   "metadata": {},
   "source": [
    "# Practice Question"
   ]
  },
  {
   "cell_type": "markdown",
   "id": "7fb86824",
   "metadata": {},
   "source": [
    "## Q1 \n",
    "x=[12,45,78,89,56]\n",
    "output x=[56,45,78,89,12]\n"
   ]
  },
  {
   "cell_type": "code",
   "execution_count": 42,
   "id": "fcb6662e",
   "metadata": {},
   "outputs": [
    {
     "data": {
      "text/plain": [
       "[56, 45, 78, 89, 12]"
      ]
     },
     "execution_count": 42,
     "metadata": {},
     "output_type": "execute_result"
    }
   ],
   "source": [
    "x=[12,45,78,89,56]\n",
    "x[0]=56\n",
    "x\n",
    "x[4]=12\n",
    "x"
   ]
  },
  {
   "cell_type": "markdown",
   "id": "787ae93c",
   "metadata": {},
   "source": [
    "## Q2 Extract Duplicate From the list \n",
    "x=[\"Prince\",\"Rinku\",\"Ritika\",\"Rohit\",\"Virat\",\"Prince\",\"Anushka\",\"Rinku\"]\n",
    "output should be x=[\"Prince\",\"Rinku\"]"
   ]
  },
  {
   "cell_type": "code",
   "execution_count": 34,
   "id": "5d9935d9",
   "metadata": {},
   "outputs": [
    {
     "name": "stdout",
     "output_type": "stream",
     "text": [
      "['Virat', 'Rinku', 'Anushka', 'Ritika', 'Prince', 'Rohit']\n"
     ]
    }
   ],
   "source": [
    "l=[]\n",
    "\n",
    "x=[\"Prince\",\"Rinku\",\"Ritika\",\"Rohit\",\"Virat\",\"Prince\",\"Anushka\",\"Rinku\"]\n",
    "a=set(x)\n",
    "for i in a:\n",
    "    l.append(i)\n",
    "print(l)"
   ]
  },
  {
   "cell_type": "markdown",
   "id": "e75c5220",
   "metadata": {},
   "source": [
    "## Q3 Write a program that computes the value of a+aa+aaa+aaaa with a given digit as the value of a . Suppose the input is supplied to the progrem :9 then, the output should be :11106"
   ]
  },
  {
   "cell_type": "code",
   "execution_count": 22,
   "id": "04e40f36",
   "metadata": {},
   "outputs": [
    {
     "data": {
      "text/plain": [
       "11106"
      ]
     },
     "execution_count": 22,
     "metadata": {},
     "output_type": "execute_result"
    }
   ],
   "source": [
    "c=0\n",
    "a=10\n",
    "for i in range(1,5):\n",
    "    b=(a**i)-1\n",
    "    c=b+c\n",
    "c"
   ]
  },
  {
   "cell_type": "markdown",
   "id": "e9947f10",
   "metadata": {},
   "source": [
    "## Q4 l=[\"5'2\",\"8'9\",\"90'4\"] convert this into  l==[5.2,8.9,90.4]"
   ]
  },
  {
   "cell_type": "code",
   "execution_count": 44,
   "id": "f8cb7bf6",
   "metadata": {},
   "outputs": [],
   "source": [
    "b=[]\n",
    "l=[\"5'2\",\"8'9\",\"90'4\"]"
   ]
  },
  {
   "cell_type": "code",
   "execution_count": 45,
   "id": "e79c75c9",
   "metadata": {},
   "outputs": [],
   "source": [
    "for i in l:\n",
    "    a=i.replace(\"'\",\".\")\n",
    "    b.append(a)"
   ]
  },
  {
   "cell_type": "code",
   "execution_count": 46,
   "id": "affcd516",
   "metadata": {},
   "outputs": [
    {
     "data": {
      "text/plain": [
       "['5.2', '8.9', '90.4']"
      ]
     },
     "execution_count": 46,
     "metadata": {},
     "output_type": "execute_result"
    }
   ],
   "source": [
    "b"
   ]
  }
 ],
 "metadata": {
  "kernelspec": {
   "display_name": "Python 3 (ipykernel)",
   "language": "python",
   "name": "python3"
  },
  "language_info": {
   "codemirror_mode": {
    "name": "ipython",
    "version": 3
   },
   "file_extension": ".py",
   "mimetype": "text/x-python",
   "name": "python",
   "nbconvert_exporter": "python",
   "pygments_lexer": "ipython3",
   "version": "3.9.13"
  }
 },
 "nbformat": 4,
 "nbformat_minor": 5
}
