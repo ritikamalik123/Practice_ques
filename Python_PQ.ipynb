{
 "cells": [
  {
   "cell_type": "markdown",
   "id": "c2d6157b",
   "metadata": {},
   "source": [
    "# Practice question"
   ]
  },
  {
   "cell_type": "markdown",
   "id": "e3186115",
   "metadata": {},
   "source": [
    "## Write a program that accepts a sentence and calculate the number of upper case letters and lower case letters. Suppose the input is supplied to the program: Hello world! Then, the output should be: UPPER CASE 1 LOWER CASE 9"
   ]
  },
  {
   "cell_type": "code",
   "execution_count": 2,
   "id": "d3d9b5c6",
   "metadata": {},
   "outputs": [
    {
     "name": "stdout",
     "output_type": "stream",
     "text": [
      "UPPER CASE  1\n",
      "LOWER CASE  9\n"
     ]
    }
   ],
   "source": [
    "a=\"Hello world!\"\n",
    "b=0\n",
    "c=0\n",
    "for i in a:\n",
    "    if i.isupper():\n",
    "        b+=1\n",
    "    elif i.islower():\n",
    "        c+=1\n",
    "    elif i.isspace():\n",
    "        continue\n",
    "    else:\n",
    "        continue\n",
    "print(\"UPPER CASE \",y)\n",
    "print(\"LOWER CASE \",z)"
   ]
  },
  {
   "cell_type": "code",
   "execution_count": null,
   "id": "30449868",
   "metadata": {},
   "outputs": [],
   "source": []
  }
 ],
 "metadata": {
  "kernelspec": {
   "display_name": "Python 3 (ipykernel)",
   "language": "python",
   "name": "python3"
  },
  "language_info": {
   "codemirror_mode": {
    "name": "ipython",
    "version": 3
   },
   "file_extension": ".py",
   "mimetype": "text/x-python",
   "name": "python",
   "nbconvert_exporter": "python",
   "pygments_lexer": "ipython3",
   "version": "3.9.13"
  }
 },
 "nbformat": 4,
 "nbformat_minor": 5
}
