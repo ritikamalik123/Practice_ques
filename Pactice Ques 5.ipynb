{
 "cells": [
  {
   "cell_type": "markdown",
   "id": "20e2961c",
   "metadata": {},
   "source": [
    "# Practice Questions"
   ]
  },
  {
   "cell_type": "markdown",
   "id": "c091e790",
   "metadata": {},
   "source": [
    "##### Find the factorial of the any Number According to Your choices"
   ]
  },
  {
   "cell_type": "code",
   "execution_count": null,
   "id": "624e908a",
   "metadata": {},
   "outputs": [
    {
     "name": "stdout",
     "output_type": "stream",
     "text": [
      "Enter any Number :-4\n"
     ]
    }
   ],
   "source": [
    "def fact(x):\n",
    "    if x==1:\n",
    "        factorial=1\n",
    "    else:\n",
    "        factorial=(x-1)*fact(x)\n",
    "a=int(input(\"Enter any Number :-\"))\n",
    "prince=fact(a)\n",
    "print(\"factorial of the NUmber  :-\",prince)"
   ]
  },
  {
   "cell_type": "code",
   "execution_count": null,
   "id": "38081ecc",
   "metadata": {},
   "outputs": [],
   "source": []
  }
 ],
 "metadata": {
  "kernelspec": {
   "display_name": "Python 3 (ipykernel)",
   "language": "python",
   "name": "python3"
  },
  "language_info": {
   "codemirror_mode": {
    "name": "ipython",
    "version": 3
   },
   "file_extension": ".py",
   "mimetype": "text/x-python",
   "name": "python",
   "nbconvert_exporter": "python",
   "pygments_lexer": "ipython3",
   "version": "3.9.13"
  }
 },
 "nbformat": 4,
 "nbformat_minor": 5
}
