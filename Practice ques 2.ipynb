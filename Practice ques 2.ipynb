{
 "cells": [
  {
   "cell_type": "markdown",
   "id": "79356cf5",
   "metadata": {},
   "source": [
    "# Practice question"
   ]
  },
  {
   "cell_type": "markdown",
   "id": "b0093ec0",
   "metadata": {},
   "source": [
    "## Q1  Count how many year is leap year from 1998 to 2003 with python??"
   ]
  },
  {
   "cell_type": "code",
   "execution_count": 1,
   "id": "717142a9",
   "metadata": {},
   "outputs": [
    {
     "name": "stdout",
     "output_type": "stream",
     "text": [
      "The number of leap years between 1998 and 2003 is: 1\n"
     ]
    }
   ],
   "source": [
    "def count_leap_years(start_year, end_year):\n",
    "    count = 0\n",
    "    for year in range(start_year, end_year + 1):\n",
    "        if year % 4 == 0 and (year % 100 != 0 or year % 400 == 0):\n",
    "            count += 1\n",
    "    return count\n",
    "\n",
    "start_year = 1998\n",
    "end_year = 2003\n",
    "leap_year_count = count_leap_years(start_year, end_year)\n",
    "print(f\"The number of leap years between {start_year} and {end_year} is: {leap_year_count}\")\n"
   ]
  },
  {
   "cell_type": "markdown",
   "id": "a53ba511",
   "metadata": {},
   "source": [
    "## Q2 Create a dict with help of user input"
   ]
  },
  {
   "cell_type": "code",
   "execution_count": 2,
   "id": "5b37330f",
   "metadata": {},
   "outputs": [
    {
     "name": "stdout",
     "output_type": "stream",
     "text": [
      "Enter a key (or 'q' to quit): name\n",
      "Enter a value: ritika\n",
      "Enter a key (or 'q' to quit): age\n",
      "Enter a value: 20\n",
      "Enter a key (or 'q' to quit): surname\n",
      "Enter a value: Malik\n",
      "Enter a key (or 'q' to quit): subject\n",
      "Enter a value: english\n",
      "Enter a key (or 'q' to quit): q\n",
      "User dictionary:\n",
      "{'name': 'ritika', 'age': '20', 'surname': 'Malik', 'subject': 'english'}\n"
     ]
    }
   ],
   "source": [
    "user_dict = {}\n",
    "\n",
    "while True:\n",
    "    key = input(\"Enter a key (or 'q' to quit): \")\n",
    "    if key == 'q':\n",
    "        break\n",
    "    value = input(\"Enter a value: \")\n",
    "    user_dict[key] = value\n",
    "\n",
    "print(\"User dictionary:\")\n",
    "print(user_dict)\n"
   ]
  },
  {
   "cell_type": "markdown",
   "id": "a4834ac2",
   "metadata": {},
   "source": [
    "## Q3 \"Himachal perdesh\" Print the reverse string with the help of while loop and for loop"
   ]
  },
  {
   "cell_type": "code",
   "execution_count": 3,
   "id": "09567458",
   "metadata": {},
   "outputs": [
    {
     "name": "stdout",
     "output_type": "stream",
     "text": [
      "hsedarP lahcamiH\n"
     ]
    }
   ],
   "source": [
    "string = \"Himachal Pradesh\"\n",
    "reverse = \"\"\n",
    "index = len(string) - 1\n",
    "\n",
    "while index >= 0:\n",
    "    reverse += string[index]\n",
    "    index -= 1\n",
    "\n",
    "print(reverse)\n"
   ]
  },
  {
   "cell_type": "markdown",
   "id": "80dfe83a",
   "metadata": {},
   "source": [
    "For loop"
   ]
  },
  {
   "cell_type": "code",
   "execution_count": 4,
   "id": "839d8282",
   "metadata": {},
   "outputs": [
    {
     "name": "stdout",
     "output_type": "stream",
     "text": [
      "hsedarP lahcamiH\n"
     ]
    }
   ],
   "source": [
    "string = \"Himachal Pradesh\"\n",
    "reverse = \"\"\n",
    "\n",
    "for char in reversed(string):\n",
    "    reverse += char\n",
    "\n",
    "print(reverse)\n"
   ]
  },
  {
   "cell_type": "markdown",
   "id": "4fb5c650",
   "metadata": {},
   "source": [
    "## Q4 x=[\"a\",\"b\",\"a\",\"h\",\"b\",\"k\",\"o\",\"h\"] Extract the string thats have two times reapeated"
   ]
  },
  {
   "cell_type": "code",
   "execution_count": 6,
   "id": "c0e972f3",
   "metadata": {},
   "outputs": [
    {
     "name": "stdout",
     "output_type": "stream",
     "text": [
      "['a', 'b', 'h']\n"
     ]
    }
   ],
   "source": [
    "x = [\"a\", \"b\", \"a\", \"h\", \"b\", \"k\", \"o\", \"h\"]\n",
    "result = []\n",
    "\n",
    "for i in x:\n",
    "    if x.count(i) == 2 and i not in result:\n",
    "        result.append(i)\n",
    "\n",
    "print(result)\n"
   ]
  },
  {
   "cell_type": "markdown",
   "id": "6ace28bf",
   "metadata": {},
   "source": [
    "## Q5 Print back counting with the help of for loop and while loop"
   ]
  },
  {
   "cell_type": "code",
   "execution_count": 7,
   "id": "713f00d5",
   "metadata": {},
   "outputs": [
    {
     "name": "stdout",
     "output_type": "stream",
     "text": [
      "10\n",
      "9\n",
      "8\n",
      "7\n",
      "6\n",
      "5\n",
      "4\n",
      "3\n",
      "2\n",
      "1\n"
     ]
    }
   ],
   "source": [
    "for num in range(10, 0, -1):\n",
    "    print(num)\n"
   ]
  },
  {
   "cell_type": "code",
   "execution_count": 8,
   "id": "7b77de82",
   "metadata": {},
   "outputs": [
    {
     "name": "stdout",
     "output_type": "stream",
     "text": [
      "10\n",
      "9\n",
      "8\n",
      "7\n",
      "6\n",
      "5\n",
      "4\n",
      "3\n",
      "2\n",
      "1\n"
     ]
    }
   ],
   "source": [
    "num = 10\n",
    "while num >= 1:\n",
    "    print(num)\n",
    "    num -= 1\n"
   ]
  }
 ],
 "metadata": {
  "kernelspec": {
   "display_name": "Python 3 (ipykernel)",
   "language": "python",
   "name": "python3"
  },
  "language_info": {
   "codemirror_mode": {
    "name": "ipython",
    "version": 3
   },
   "file_extension": ".py",
   "mimetype": "text/x-python",
   "name": "python",
   "nbconvert_exporter": "python",
   "pygments_lexer": "ipython3",
   "version": "3.9.13"
  }
 },
 "nbformat": 4,
 "nbformat_minor": 5
}
