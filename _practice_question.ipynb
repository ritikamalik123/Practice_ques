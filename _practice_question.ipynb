{
 "cells": [
  {
   "cell_type": "markdown",
   "id": "b7425ae6",
   "metadata": {},
   "source": [
    "# Python Practice Question"
   ]
  },
  {
   "cell_type": "markdown",
   "id": "436b78ea",
   "metadata": {},
   "source": [
    "## Write a python program to print duplicates present in limits."
   ]
  },
  {
   "cell_type": "code",
   "execution_count": 2,
   "id": "47fd12a7",
   "metadata": {},
   "outputs": [
    {
     "name": "stdout",
     "output_type": "stream",
     "text": [
      "[20, 40, 60]\n"
     ]
    }
   ],
   "source": [
    "l=[\"hello\",10,20,40,20,60,40,30,60]\n",
    "d=[]\n",
    "for i in range(len(l)):\n",
    "    for j in range(i+1,len(l)):\n",
    "        if l[i]==l[j] and l[i] not in d:\n",
    "            d.append(l[i])\n",
    "print(d)"
   ]
  }
 ],
 "metadata": {
  "kernelspec": {
   "display_name": "Python 3 (ipykernel)",
   "language": "python",
   "name": "python3"
  },
  "language_info": {
   "codemirror_mode": {
    "name": "ipython",
    "version": 3
   },
   "file_extension": ".py",
   "mimetype": "text/x-python",
   "name": "python",
   "nbconvert_exporter": "python",
   "pygments_lexer": "ipython3",
   "version": "3.9.13"
  }
 },
 "nbformat": 4,
 "nbformat_minor": 5
}
