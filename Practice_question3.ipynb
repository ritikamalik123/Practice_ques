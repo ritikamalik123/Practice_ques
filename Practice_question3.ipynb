{
 "cells": [
  {
   "cell_type": "markdown",
   "id": "65481cdf",
   "metadata": {},
   "source": [
    "# Practice question\n"
   ]
  },
  {
   "cell_type": "markdown",
   "id": "ef5c65a5",
   "metadata": {},
   "source": [
    "## Q1. Write a program which takes 2 digits, X,Y as input and generates a 2-dimensional array. The element value in the i-th row and j-th column of the array should be i*j.\n",
    "* Suppose the following inputs are given to the program: 3, 5\n",
    "* Then, the output of the program should be: [[0, 0, 0, 0, 0], [0, 1, 2, 3, 4], [0, 2, 4, 6, 8]]\n"
   ]
  },
  {
   "cell_type": "code",
   "execution_count": 2,
   "id": "fbeea3d6",
   "metadata": {},
   "outputs": [],
   "source": [
    "## Import Li\n",
    "import numpy as np"
   ]
  },
  {
   "cell_type": "code",
   "execution_count": 3,
   "id": "6627d232",
   "metadata": {},
   "outputs": [
    {
     "name": "stdout",
     "output_type": "stream",
     "text": [
      "enter Number of Row :5\n",
      "enter the Number of Columns :7\n",
      "[[ 0  0  0  0  0  0  0]\n",
      " [ 0  1  2  3  4  5  6]\n",
      " [ 0  2  4  6  8 10 12]\n",
      " [ 0  3  6  9 12 15 18]\n",
      " [ 0  4  8 12 16 20 24]]\n"
     ]
    }
   ],
   "source": [
    "l=[]\n",
    "r=int(input(\"enter Number of Row :\"))\n",
    "c=int(input(\"enter the Number of Columns :\"))\n",
    "for i in range(r):\n",
    "    for j in range(c):\n",
    "        l.append(i*j)\n",
    "x=np.array(l).reshape(r,c)\n",
    "print(x)"
   ]
  },
  {
   "cell_type": "code",
   "execution_count": null,
   "id": "b26be48e",
   "metadata": {},
   "outputs": [],
   "source": [
    "## For shape (5, 5)"
   ]
  },
  {
   "cell_type": "code",
   "execution_count": 8,
   "id": "35f233a6",
   "metadata": {},
   "outputs": [
    {
     "name": "stdout",
     "output_type": "stream",
     "text": [
      "enter number of raw 5\n",
      "enter number of columns 5\n",
      "[[ 0  0  0  0  0]\n",
      " [ 0  1  2  3  4]\n",
      " [ 0  2  4  6  8]\n",
      " [ 0  3  6  9 12]\n",
      " [ 0  4  8 12 16]]\n"
     ]
    }
   ],
   "source": [
    "l=[]\n",
    "r=int(input(\"enter number of raw \"))\n",
    "c=int(input(\"enter number of columns \"))\n",
    "for i in range(r):\n",
    "    for j in range(c):\n",
    "        l.append(i*j)\n",
    "                \n",
    "x=np.array(l).reshape(5,5)\n",
    "print(x)"
   ]
  },
  {
   "cell_type": "markdown",
   "id": "e15d289b",
   "metadata": {},
   "source": [
    "## for multi list"
   ]
  },
  {
   "cell_type": "code",
   "execution_count": 13,
   "id": "77d03fba",
   "metadata": {},
   "outputs": [
    {
     "name": "stdout",
     "output_type": "stream",
     "text": [
      "Input number of rows: 6\n",
      "Input number of columns: 7\n",
      "[[0, 0, 0, 0, 0, 0, 0], [0, 1, 2, 3, 4, 5, 6], [0, 2, 4, 6, 8, 10, 12], [0, 3, 6, 9, 12, 15, 18], [0, 4, 8, 12, 16, 20, 24], [0, 5, 10, 15, 20, 25, 30]]\n"
     ]
    }
   ],
   "source": [
    "row_num = int(input(\"Input number of rows: \"))\n",
    "col_num = int(input(\"Input number of columns: \"))\n",
    "multi_list = [[0 for col in range(col_num)] for row in range(row_num)]\n",
    "\n",
    "for row in range(row_num):\n",
    "    for col in range(col_num):\n",
    "        multi_list[row][col]= row*col\n",
    "\n",
    "print(multi_list)"
   ]
  },
  {
   "cell_type": "code",
   "execution_count": null,
   "id": "93d879fa",
   "metadata": {},
   "outputs": [],
   "source": []
  }
 ],
 "metadata": {
  "kernelspec": {
   "display_name": "Python 3 (ipykernel)",
   "language": "python",
   "name": "python3"
  },
  "language_info": {
   "codemirror_mode": {
    "name": "ipython",
    "version": 3
   },
   "file_extension": ".py",
   "mimetype": "text/x-python",
   "name": "python",
   "nbconvert_exporter": "python",
   "pygments_lexer": "ipython3",
   "version": "3.9.13"
  }
 },
 "nbformat": 4,
 "nbformat_minor": 5
}
