{
 "cells": [
  {
   "cell_type": "markdown",
   "id": "011225df",
   "metadata": {},
   "source": [
    "# Practice Question"
   ]
  },
  {
   "cell_type": "markdown",
   "id": "f826af1b",
   "metadata": {},
   "source": [
    "## Q1 Days=[\"sun\",\"mon\",\"tues\",\"wed\",\"thus\",\"fri\",\"sat\"]\n",
    "### if \"wed\" is present in this list so print \"honestly is the best policy\".Else print \"hello delhi\""
   ]
  },
  {
   "cell_type": "code",
   "execution_count": 14,
   "id": "3fc132d3",
   "metadata": {},
   "outputs": [
    {
     "data": {
      "text/plain": [
       "['sun', 'mon', 'tues', 'wed', 'thus', 'fri', 'sat']"
      ]
     },
     "execution_count": 14,
     "metadata": {},
     "output_type": "execute_result"
    }
   ],
   "source": [
    "days=[\"sun\",\"mon\",\"tues\",\"wed\",\"thus\",\"fri\",\"sat\"]\n",
    "days\n"
   ]
  },
  {
   "cell_type": "code",
   "execution_count": 15,
   "id": "46f35e74",
   "metadata": {},
   "outputs": [
    {
     "name": "stdout",
     "output_type": "stream",
     "text": [
      "Honesty is the best policy\n"
     ]
    }
   ],
   "source": [
    "if \"wed\" in days:\n",
    "    print(\"Honesty is the best policy\")\n",
    "else:\n",
    "    print(\"hello delhi\")"
   ]
  },
  {
   "cell_type": "markdown",
   "id": "3fa38bf4",
   "metadata": {},
   "source": [
    "## Q2 Find the Current date and time"
   ]
  },
  {
   "cell_type": "code",
   "execution_count": 9,
   "id": "c4ce122e",
   "metadata": {},
   "outputs": [
    {
     "name": "stdout",
     "output_type": "stream",
     "text": [
      "The current date and time is: 2023-05-05 17:15:12.121867\n"
     ]
    }
   ],
   "source": [
    "import datetime\n",
    "\n",
    "current_datetime = datetime.datetime.now()\n",
    "\n",
    "print(\"The current date and time is:\", current_datetime)"
   ]
  },
  {
   "cell_type": "markdown",
   "id": "ad5c2247",
   "metadata": {},
   "source": [
    "## Q3 Replace every space with \"**\""
   ]
  },
  {
   "cell_type": "code",
   "execution_count": 11,
   "id": "af6f211b",
   "metadata": {},
   "outputs": [
    {
     "data": {
      "text/plain": [
       "'honesty**is**best**policy'"
      ]
     },
     "execution_count": 11,
     "metadata": {},
     "output_type": "execute_result"
    }
   ],
   "source": [
    "a=\"honesty is best policy\"\n",
    "a.replace(\" \",\"**\")"
   ]
  },
  {
   "cell_type": "markdown",
   "id": "ac159529",
   "metadata": {},
   "source": [
    "## Q4 Print the list with help of while loop and with the range "
   ]
  },
  {
   "cell_type": "code",
   "execution_count": 16,
   "id": "1e353194",
   "metadata": {},
   "outputs": [
    {
     "name": "stdout",
     "output_type": "stream",
     "text": [
      "sun\n",
      "mon\n",
      "tues\n",
      "wed\n",
      "thus\n",
      "fri\n",
      "sat\n"
     ]
    }
   ],
   "source": [
    "days=[\"sun\",\"mon\",\"tues\",\"wed\",\"thus\",\"fri\",\"sat\"]\n",
    "x=0\n",
    "y=len(days)\n",
    "while x<y:\n",
    "    print(days[x])\n",
    "    x+=1"
   ]
  },
  {
   "cell_type": "code",
   "execution_count": 17,
   "id": "ed54f232",
   "metadata": {},
   "outputs": [
    {
     "name": "stdout",
     "output_type": "stream",
     "text": [
      "sun\n",
      "mon\n",
      "tues\n",
      "wed\n",
      "thus\n",
      "fri\n",
      "sat\n"
     ]
    }
   ],
   "source": [
    "for i in range(len(days)):\n",
    "    print(days[i])"
   ]
  },
  {
   "cell_type": "markdown",
   "id": "cdbe3a55",
   "metadata": {},
   "source": [
    "## Q5 Remove Thusday and convert set to tuple"
   ]
  },
  {
   "cell_type": "code",
   "execution_count": 18,
   "id": "6a3b66f0",
   "metadata": {},
   "outputs": [
    {
     "name": "stdout",
     "output_type": "stream",
     "text": [
      "['sun', 'mon', 'tues', 'wed', 'fri', 'sat']\n"
     ]
    },
    {
     "data": {
      "text/plain": [
       "('sun', 'mon', 'tues', 'wed', 'fri', 'sat')"
      ]
     },
     "execution_count": 18,
     "metadata": {},
     "output_type": "execute_result"
    }
   ],
   "source": [
    "l=[]\n",
    "days=[\"sun\",\"mon\",\"tues\",\"wed\",\"thus\",\"fri\",\"sat\"]\n",
    "for i in days:\n",
    "    if i!=\"thus\":\n",
    "        l.append(i)\n",
    "print(l)\n",
    "tuple(l)"
   ]
  },
  {
   "cell_type": "code",
   "execution_count": null,
   "id": "fae03daa",
   "metadata": {},
   "outputs": [],
   "source": []
  }
 ],
 "metadata": {
  "kernelspec": {
   "display_name": "Python 3 (ipykernel)",
   "language": "python",
   "name": "python3"
  },
  "language_info": {
   "codemirror_mode": {
    "name": "ipython",
    "version": 3
   },
   "file_extension": ".py",
   "mimetype": "text/x-python",
   "name": "python",
   "nbconvert_exporter": "python",
   "pygments_lexer": "ipython3",
   "version": "3.9.13"
  }
 },
 "nbformat": 4,
 "nbformat_minor": 5
}
